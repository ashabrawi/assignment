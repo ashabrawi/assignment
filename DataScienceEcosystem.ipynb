{
 "cells": [
  {
   "attachments": {},
   "cell_type": "markdown",
   "id": "da656a24",
   "metadata": {},
   "source": [
    "<h1>Data Science Tools and Ecosystem</h1>"
   ]
  },
  {
   "cell_type": "markdown",
   "id": "0abbcd23",
   "metadata": {},
   "source": [
    "<h2><b>Author</b></h2>\n",
    "Abdallah Alshabrawi"
   ]
  },
  {
   "cell_type": "markdown",
   "id": "515e1f8c",
   "metadata": {},
   "source": [
    "Introduction of Data Science"
   ]
  },
  {
   "cell_type": "markdown",
   "id": "6fe59de2",
   "metadata": {},
   "source": [
    "<p><b>Objectives:</b></p>\n",
    "<ul>\n",
    "    <li>Data Science popular languages </li>\n",
    "    <li>Data Science libraries</li>\n",
    "    <li>Data Science tools</li>\n",
    "    <li>Code examples</li>\n",
    "    \n",
    "       \n",
    "</ul>"
   ]
  },
  {
   "cell_type": "markdown",
   "id": "0b0cdb87",
   "metadata": {},
   "source": [
    "Some of the popular languages that Data Scientists use are:\n",
    "<ol>\n",
    "    <li>Python</li>\n",
    "    <li>R</li>\n",
    "    <li>SQL</li>\n",
    "     \n",
    "</ol>"
   ]
  },
  {
   "cell_type": "markdown",
   "id": "dad0486b",
   "metadata": {},
   "source": [
    "Some of the commonly used libraries used by Data Scientists include:\n",
    "<ol>\n",
    "    <li>Pandas</li>\n",
    "    <li>Numpy</li>\n",
    "    <li>Matplotlib</li>\n",
    "    <li>Seaborn</li>\n",
    "</ol>"
   ]
  },
  {
   "cell_type": "markdown",
   "id": "9b7446de",
   "metadata": {},
   "source": [
    "<table>\n",
    "    <th>Data science tool</th>\n",
    "    <tr><td>Juptyer</td></tr>\n",
    "    <tr><td>JuptyerLab</td></tr>\n",
    "    <tr><td>Appache zepplin</td></tr>   \n",
    "</table>"
   ]
  },
  {
   "cell_type": "markdown",
   "id": "61ad3f47",
   "metadata": {},
   "source": [
    "<h3>Below are a few examples of evaluating arithmetic expressions in Python</h3>"
   ]
  },
  {
   "cell_type": "code",
   "execution_count": 1,
   "id": "b32732a7",
   "metadata": {},
   "outputs": [
    {
     "data": {
      "text/plain": [
       "17"
      ]
     },
     "execution_count": 1,
     "metadata": {},
     "output_type": "execute_result"
    }
   ],
   "source": [
    "#This a simple arithmetic expression to mutiply then add integers\n",
    "(3*4)+5"
   ]
  },
  {
   "cell_type": "code",
   "execution_count": 2,
   "id": "649e6226",
   "metadata": {},
   "outputs": [
    {
     "name": "stdout",
     "output_type": "stream",
     "text": [
      "3.3333333333333335\n"
     ]
    }
   ],
   "source": [
    "#This will convert 200 minutes to hours by diving by 60\n",
    "minutes=200\n",
    "print(minutes/60)"
   ]
  },
  {
   "cell_type": "code",
   "execution_count": null,
   "id": "e6ed3735",
   "metadata": {},
   "outputs": [],
   "source": []
  }
 ],
 "metadata": {
  "kernelspec": {
   "display_name": "Python 3 (ipykernel)",
   "language": "python",
   "name": "python3"
  },
  "language_info": {
   "codemirror_mode": {
    "name": "ipython",
    "version": 3
   },
   "file_extension": ".py",
   "mimetype": "text/x-python",
   "name": "python",
   "nbconvert_exporter": "python",
   "pygments_lexer": "ipython3",
   "version": "3.9.12"
  }
 },
 "nbformat": 4,
 "nbformat_minor": 5
}
